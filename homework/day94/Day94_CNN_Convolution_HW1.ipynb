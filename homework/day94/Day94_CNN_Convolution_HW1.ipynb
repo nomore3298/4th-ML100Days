{
  "cells": [
    {
      "cell_type": "markdown",
      "metadata": {
        "id": "j-FAeBJLV-Sb"
      },
      "source": [
        "# 作業目標:\n",
        "    了解 Convolution 卷積的組成"
      ]
    },
    {
      "cell_type": "markdown",
      "metadata": {
        "id": "m9V9tVGcV-Sc"
      },
      "source": [
        "# 作業重點:\n",
        "    修改 a_slice_prev, 檢查 Z 的輸出"
      ]
    },
    {
      "cell_type": "code",
      "execution_count": 1,
      "metadata": {
        "id": "TdFDLhgQV-Sd"
      },
      "outputs": [],
      "source": [
        "import numpy as np"
      ]
    },
    {
      "cell_type": "code",
      "execution_count": 2,
      "metadata": {
        "id": "n-d3xbBSV-Sd"
      },
      "outputs": [],
      "source": [
        "# GRADED FUNCTION: conv_single_step\n",
        "def conv_single_step(a_slice_prev, W, b):\n",
        "    \"\"\"\n",
        "    定義一層 Kernel (內核), 使用的參數說明如下\n",
        "    Arguments:\n",
        "        a_slice_prev -- 輸入資料的維度\n",
        "        W -- 權重, 被使用在 a_slice_prev\n",
        "        b -- 偏差參數 \n",
        "    Returns:\n",
        "        Z -- 滑動窗口（W，b）卷積在前一個 feature map 上的結果\n",
        "    \"\"\"\n",
        "\n",
        "    # 定義一個元素介於 a_slice and W\n",
        "    s = a_slice_prev * W\n",
        "    # 加總所有的 \"s\" 並指定給Z.\n",
        "    Z = np.sum(s)\n",
        "    # Add bias b to Z. 這是 float() 函數,\n",
        "    Z = float(Z + b)\n",
        "\n",
        "    return Z"
      ]
    },
    {
      "cell_type": "code",
      "execution_count": 3,
      "metadata": {
        "colab": {
          "base_uri": "https://localhost:8080/",
          "height": 35
        },
        "id": "_Cs8VDzaV-Se",
        "outputId": "e1280aed-0b35-4fc3-e816-d391f1c09da5"
      },
      "outputs": [
        {
          "output_type": "execute_result",
          "data": {
            "text/plain": [
              "'\\n\\nnp.random.seed(1)\\n#定義一個 axaxd 的 feature map\\na_slice_prev = \\nW = \\nb = np.random.randn(1, 1, 1)\\n\\n#取得計算後,卷積矩陣的值\\nZ = conv_single_step(a_slice_prev, W, b)\\nprint(\"Z =\", Z)\\n'"
            ],
            "application/vnd.google.colaboratory.intrinsic+json": {
              "type": "string"
            }
          },
          "metadata": {},
          "execution_count": 3
        }
      ],
      "source": [
        "'''\n",
        "\n",
        "np.random.seed(1)\n",
        "#定義一個 axaxd 的 feature map\n",
        "a_slice_prev = \n",
        "W = \n",
        "b = np.random.randn(1, 1, 1)\n",
        "\n",
        "#取得計算後,卷積矩陣的值\n",
        "Z = conv_single_step(a_slice_prev, W, b)\n",
        "print(\"Z =\", Z)\n",
        "'''"
      ]
    },
    {
      "cell_type": "code",
      "execution_count": 5,
      "metadata": {
        "colab": {
          "base_uri": "https://localhost:8080/"
        },
        "id": "Cwt3gjTsV-Sf",
        "outputId": "97726824-8931-4905-ddee-92c15de18e41"
      },
      "outputs": [
        {
          "output_type": "stream",
          "name": "stdout",
          "text": [
            "Z = 30.99834821935533\n"
          ]
        }
      ],
      "source": [
        "'''\n",
        "seed( ) 用於指定隨機數生成時所用算法開始的整數值，\n",
        "如果使用相同的seed( )值，則每次生成的隨即數都相同，\n",
        "如果不設置這個值，則係統根據時間來自己選擇這個值，\n",
        "此時每次生成的隨機數因時間差異而不同。\n",
        "'''\n",
        "np.random.seed(1)\n",
        "#定義一個 4x4x3 的 feature map\n",
        "a_slice_prev = np.random.randn(8, 8, 6)\n",
        "W = np.random.randn(8, 8, 6)\n",
        "b = np.random.randn(1, 1, 1)\n",
        "\n",
        "#取得計算後,卷績矩陣的值\n",
        "Z = conv_single_step(a_slice_prev, W, b)\n",
        "print(\"Z =\", Z)"
      ]
    }
  ],
  "metadata": {
    "kernelspec": {
      "display_name": "Python 3",
      "language": "python",
      "name": "python3"
    },
    "language_info": {
      "codemirror_mode": {
        "name": "ipython",
        "version": 3
      },
      "file_extension": ".py",
      "mimetype": "text/x-python",
      "name": "python",
      "nbconvert_exporter": "python",
      "pygments_lexer": "ipython3",
      "version": "3.6.8"
    },
    "colab": {
      "name": "Day94-CNN_Convolution_HW.ipynb",
      "provenance": []
    }
  },
  "nbformat": 4,
  "nbformat_minor": 0
}