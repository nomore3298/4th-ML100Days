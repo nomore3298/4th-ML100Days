{
 "cells": [
  {
   "cell_type": "markdown",
   "metadata": {},
   "source": [
    "# 作業\n",
    "* 試著想想看, 非監督學習是否有可能使用評價函數 (Metric) 來鑑別好壞呢?  \n",
    "(Hint : 可以分為 \"有目標值\" 與 \"無目標值\" 兩個方向思考)"
   ]
  },
  {
   "cell_type": "markdown",
   "metadata": {},
   "source": [
    "來源:https://blog.csdn.net/u013709270/article/details/74276533"
   ]
  },
  {
   "cell_type": "markdown",
   "metadata": {},
   "source": [
    "有目標值<br>\n",
    "1.Purity方法<br>\n",
    "2.RI方法(Rand index蘭德指數)<br>\n",
    "3.F值方法<br>"
   ]
  },
  {
   "cell_type": "markdown",
   "metadata": {},
   "source": [
    "無目標值\n",
    "1.Compactness(緊湊性)(CP)\n",
    "2.Separation(分離性)(SP)\n",
    "3.Davies-Bouldin Index(戴維斯-布爾丁指數)\n",
    "4.Dunn Validity Index (鄧恩指數)"
   ]
  },
  {
   "cell_type": "markdown",
   "metadata": {
    "collapsed": true
   },
   "source": [
    "非監督學習的輸出結果，通常是在協助我們整理資料與了解資料，結果的優劣比較主觀，不容易用評價函數來鑑別。<br>\n",
    "以分群來說我們如果有目標值的預期，似乎有一定的衡量標準，但是結果的呈現是否如我們的預期分群似乎是一個很大的問題。"
   ]
  }
 ],
 "metadata": {
  "kernelspec": {
   "display_name": "Python 3",
   "language": "python",
   "name": "python3"
  },
  "language_info": {
   "codemirror_mode": {
    "name": "ipython",
    "version": 3
   },
   "file_extension": ".py",
   "mimetype": "text/x-python",
   "name": "python",
   "nbconvert_exporter": "python",
   "pygments_lexer": "ipython3",
   "version": "3.7.7"
  }
 },
 "nbformat": 4,
 "nbformat_minor": 1
}
