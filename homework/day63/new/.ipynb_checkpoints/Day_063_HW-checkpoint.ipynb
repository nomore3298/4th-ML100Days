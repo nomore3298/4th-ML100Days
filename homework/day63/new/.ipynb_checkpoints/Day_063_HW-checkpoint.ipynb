{
 "cells": [
  {
   "cell_type": "markdown",
   "metadata": {},
   "source": [
    "# 作業\n",
    "* 在精簡深度學習的方式上 : 卷積類神經 (CNN) 採用像素遠近，而遞歸類神經 (RNN) 採用著則是時間遠近\n",
    "* 那麼，既然有著類似的設計精神，兩者是否有可能互換應用呢?"
   ]
  },
  {
   "cell_type": "code",
   "execution_count": null,
   "metadata": {
    "collapsed": true
   },
   "outputs": [],
   "source": [
    "CNN、RNN兩者有可能互換應用:\n",
    "\n",
    "CNN 非常適合用於處理電腦視覺作業，不過要是提供充足資料給 CNN，它也能用於處理影片、語音、音樂和文字。\n",
    "\n",
    "從1980年代便開始快速發展的 CNN，是當今自動駕駛車、石油探勘及核融合研究的眼睛，用以更快速地在醫學影像裡找出疾病和挽救生命。\n",
    "\n",
    "機器現在使用 CNN 來消化處理影像，相當於眼睛的角色，以辨識不同物體；而 RNN 是數學計算引擎，相當於耳朵和嘴巴的角色，以解析各種語言模式。\n",
    "\n",
    "RNN 加快了語音方面運算革命的發展腳步。RNN 是處理自然語言的大腦，讓 Amazon 的 Alexa、Google 的 Assistant 及 Apple 的 Siri 擁有耳朵和嘴巴，可以聽取和發出語音；也為 Google 的自動填入功能提供未卜先知般的能力，當你在搜尋時它會自動填入字句。\n",
    "\n",
    "RNN的重要特性是可以處理不定長的輸入，得到一定的輸出。當你的輸入可長可短， 比如訓練翻譯模型的時候， 你的句子長度都不固定，你是無法像一個訓練固定像素的圖像那樣用CNN搞定的。而利用RNN的循環特性可以輕鬆搞定。\n",
    "\n",
    "在序列信號的應用上，CNN是只響應預先設定的信號長度（輸入向量的長度），RNN的響應長度是學習出來的。\n",
    "\n",
    "CNN對特徵的響應是線性的，RNN在這個遞進方向上是非線性響應的。這也帶來了很大的差別。\n",
    "\n",
    "CNN 專門解決圖像問題的，可用把它看作特徵提取層，放在輸入層上，最後用MLP 做分類。\n",
    "\n",
    "RNN 專門解決時間序列問題的，用來提取時間序列信息，放在特徵提取層（如CNN）之後。\n",
    "\n",
    "RNN，遞歸型網絡，用於序列數據，並且有了一定的記憶效應，輔之以lstm。\n",
    "\n",
    "CNN應該側重空間映射，圖像數據尤為貼合此場景。\n",
    "\n",
    "CNN 卷積擅長從局部特徵逼近整體特徵，\n",
    "\n",
    "RNN 擅長對付時間序列。"
   ]
  }
 ],
 "metadata": {
  "kernelspec": {
   "display_name": "Python 3",
   "language": "python",
   "name": "python3"
  },
  "language_info": {
   "codemirror_mode": {
    "name": "ipython",
    "version": 3
   },
   "file_extension": ".py",
   "mimetype": "text/x-python",
   "name": "python",
   "nbconvert_exporter": "python",
   "pygments_lexer": "ipython3",
   "version": "3.8.5"
  }
 },
 "nbformat": 4,
 "nbformat_minor": 2
}
