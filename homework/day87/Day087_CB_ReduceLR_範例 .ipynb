{
 "cells": [
  {
   "cell_type": "markdown",
   "metadata": {},
   "source": [
    "## 範例重點\n",
    "* 學習如何在 keras 中加入 reduce learning rate\n",
    "* 知道如何設定 reduce_lr 的監控目標\n",
    "* 比較使用有無使用 reduce_lr 時的 performance"
   ]
  },
  {
   "cell_type": "code",
   "execution_count": 1,
   "metadata": {},
   "outputs": [],
   "source": [
    "import os\n",
    "import keras\n",
    "\n",
    "# 本範例不需使用 GPU, 將 GPU 設定為 \"無\"\n",
    "os.environ[\"CUDA_VISIBLE_DEVICES\"] = \"\""
   ]
  },
  {
   "cell_type": "code",
   "execution_count": 2,
   "metadata": {},
   "outputs": [],
   "source": [
    "train, test = keras.datasets.cifar10.load_data()"
   ]
  },
  {
   "cell_type": "code",
   "execution_count": 3,
   "metadata": {},
   "outputs": [],
   "source": [
    "## 資料前處理\n",
    "def preproc_x(x, flatten=True):\n",
    "    x = x / 255.\n",
    "    if flatten:\n",
    "        x = x.reshape((len(x), -1))\n",
    "    return x\n",
    "\n",
    "def preproc_y(y, num_classes=10):\n",
    "    if y.shape[-1] == 1:\n",
    "        y = keras.utils.to_categorical(y, num_classes)\n",
    "    return y    "
   ]
  },
  {
   "cell_type": "code",
   "execution_count": 4,
   "metadata": {},
   "outputs": [],
   "source": [
    "x_train, y_train = train\n",
    "x_test, y_test = test\n",
    "\n",
    "# 資料前處理 - X 標準化\n",
    "x_train = preproc_x(x_train)\n",
    "x_test = preproc_x(x_test)\n",
    "\n",
    "# 資料前處理 -Y 轉成 onehot\n",
    "y_train = preproc_y(y_train)\n",
    "y_test = preproc_y(y_test)"
   ]
  },
  {
   "cell_type": "code",
   "execution_count": 5,
   "metadata": {},
   "outputs": [],
   "source": [
    "from keras.layers import BatchNormalization\n",
    "\n",
    "\"\"\"\n",
    "建立神經網路，並加入 BN layer\n",
    "\"\"\"\n",
    "def build_mlp(input_shape, output_units=10, num_neurons=[512, 256, 128]):\n",
    "    input_layer = keras.layers.Input(input_shape)\n",
    "    \n",
    "    for i, n_units in enumerate(num_neurons):\n",
    "        if i == 0:\n",
    "            x = keras.layers.Dense(units=n_units, \n",
    "                                   activation=\"relu\", \n",
    "                                   name=\"hidden_layer\"+str(i+1))(input_layer)\n",
    "            x = BatchNormalization()(x)\n",
    "        else:\n",
    "            x = keras.layers.Dense(units=n_units, \n",
    "                                   activation=\"relu\", \n",
    "                                   name=\"hidden_layer\"+str(i+1))(x)\n",
    "            x = BatchNormalization()(x)\n",
    "    \n",
    "    out = keras.layers.Dense(units=output_units, activation=\"softmax\", name=\"output\")(x)\n",
    "    \n",
    "    model = keras.models.Model(inputs=[input_layer], outputs=[out])\n",
    "    return model"
   ]
  },
  {
   "cell_type": "code",
   "execution_count": 6,
   "metadata": {},
   "outputs": [],
   "source": [
    "## 超參數設定\n",
    "LEARNING_RATE = 1e-3\n",
    "EPOCHS = 50\n",
    "BATCH_SIZE = 1024\n",
    "MOMENTUM = 0.95"
   ]
  },
  {
   "cell_type": "code",
   "execution_count": 7,
   "metadata": {},
   "outputs": [],
   "source": [
    "\"\"\"\n",
    "# 載入 Callbacks, 並設定監控目標為 validation loss\n",
    "\n",
    "參數說明：\n",
    "monitor: 監控目標\n",
    "min_lr: 最低下降至多少學習率\n",
    "factor: 每次學習率要下降多少\n",
    "patience: 經過多少 Epoch 後模型沒有改善時會使用該功能\n",
    "\n",
    "\"\"\"\n",
    "from keras.callbacks import ReduceLROnPlateau\n",
    "\n",
    "reduce_lr = ReduceLROnPlateau(factor=0.5, \n",
    "                              min_lr=1e-12, \n",
    "                              monitor='val_loss', \n",
    "                              patience=5, \n",
    "                              verbose=1)"
   ]
  },
  {
   "cell_type": "code",
   "execution_count": 9,
   "metadata": {
    "scrolled": true
   },
   "outputs": [
    {
     "name": "stdout",
     "output_type": "stream",
     "text": [
      "Model: \"functional_3\"\n",
      "_________________________________________________________________\n",
      "Layer (type)                 Output Shape              Param #   \n",
      "=================================================================\n",
      "input_2 (InputLayer)         [(None, 3072)]            0         \n",
      "_________________________________________________________________\n",
      "hidden_layer1 (Dense)        (None, 512)               1573376   \n",
      "_________________________________________________________________\n",
      "batch_normalization_3 (Batch (None, 512)               2048      \n",
      "_________________________________________________________________\n",
      "hidden_layer2 (Dense)        (None, 256)               131328    \n",
      "_________________________________________________________________\n",
      "batch_normalization_4 (Batch (None, 256)               1024      \n",
      "_________________________________________________________________\n",
      "hidden_layer3 (Dense)        (None, 128)               32896     \n",
      "_________________________________________________________________\n",
      "batch_normalization_5 (Batch (None, 128)               512       \n",
      "_________________________________________________________________\n",
      "output (Dense)               (None, 10)                1290      \n",
      "=================================================================\n",
      "Total params: 1,742,474\n",
      "Trainable params: 1,740,682\n",
      "Non-trainable params: 1,792\n",
      "_________________________________________________________________\n",
      "Epoch 1/50\n",
      "49/49 [==============================] - 2s 38ms/step - loss: 1.7525 - accuracy: 0.3918 - val_loss: 2.4469 - val_accuracy: 0.2099\n",
      "Epoch 2/50\n",
      "49/49 [==============================] - 2s 35ms/step - loss: 1.4878 - accuracy: 0.4748 - val_loss: 1.9328 - val_accuracy: 0.2998\n",
      "Epoch 3/50\n",
      "49/49 [==============================] - 2s 34ms/step - loss: 1.3885 - accuracy: 0.5104 - val_loss: 1.7166 - val_accuracy: 0.3915\n",
      "Epoch 4/50\n",
      "49/49 [==============================] - 2s 35ms/step - loss: 1.3177 - accuracy: 0.5343 - val_loss: 1.7061 - val_accuracy: 0.3846\n",
      "Epoch 5/50\n",
      "49/49 [==============================] - 2s 35ms/step - loss: 1.2411 - accuracy: 0.5634 - val_loss: 1.8590 - val_accuracy: 0.3608\n",
      "Epoch 6/50\n",
      "49/49 [==============================] - 2s 35ms/step - loss: 1.1888 - accuracy: 0.5801 - val_loss: 2.5896 - val_accuracy: 0.2504\n",
      "Epoch 7/50\n",
      "49/49 [==============================] - 2s 35ms/step - loss: 1.1322 - accuracy: 0.6011 - val_loss: 2.1930 - val_accuracy: 0.2870\n",
      "Epoch 8/50\n",
      "49/49 [==============================] - 2s 34ms/step - loss: 1.0876 - accuracy: 0.6172 - val_loss: 1.6853 - val_accuracy: 0.4280\n",
      "Epoch 9/50\n",
      "49/49 [==============================] - 2s 34ms/step - loss: 1.0385 - accuracy: 0.6356 - val_loss: 1.6380 - val_accuracy: 0.4454\n",
      "Epoch 10/50\n",
      "49/49 [==============================] - 2s 36ms/step - loss: 0.9967 - accuracy: 0.6528 - val_loss: 1.9904 - val_accuracy: 0.3805\n",
      "Epoch 11/50\n",
      "49/49 [==============================] - 2s 37ms/step - loss: 0.9637 - accuracy: 0.6636 - val_loss: 2.1224 - val_accuracy: 0.3661\n",
      "Epoch 12/50\n",
      "49/49 [==============================] - 2s 35ms/step - loss: 0.9164 - accuracy: 0.6810 - val_loss: 1.8450 - val_accuracy: 0.4170\n",
      "Epoch 13/50\n",
      "49/49 [==============================] - 2s 38ms/step - loss: 0.8764 - accuracy: 0.6932 - val_loss: 1.8687 - val_accuracy: 0.3974\n",
      "Epoch 14/50\n",
      "49/49 [==============================] - ETA: 0s - loss: 0.8443 - accuracy: 0.7048\n",
      "Epoch 00014: ReduceLROnPlateau reducing learning rate to 0.0005000000237487257.\n",
      "49/49 [==============================] - 2s 34ms/step - loss: 0.8443 - accuracy: 0.7048 - val_loss: 1.8303 - val_accuracy: 0.3995\n",
      "Epoch 15/50\n",
      "49/49 [==============================] - 2s 34ms/step - loss: 0.7275 - accuracy: 0.7553 - val_loss: 1.5619 - val_accuracy: 0.4741\n",
      "Epoch 16/50\n",
      "49/49 [==============================] - 2s 34ms/step - loss: 0.6718 - accuracy: 0.7746 - val_loss: 1.5414 - val_accuracy: 0.4885\n",
      "Epoch 17/50\n",
      "49/49 [==============================] - 2s 37ms/step - loss: 0.6375 - accuracy: 0.7884 - val_loss: 1.5612 - val_accuracy: 0.4870\n",
      "Epoch 18/50\n",
      "49/49 [==============================] - 2s 36ms/step - loss: 0.6052 - accuracy: 0.8000 - val_loss: 1.6444 - val_accuracy: 0.4789\n",
      "Epoch 19/50\n",
      "49/49 [==============================] - 2s 35ms/step - loss: 0.5755 - accuracy: 0.8106 - val_loss: 1.6331 - val_accuracy: 0.4873\n",
      "Epoch 20/50\n",
      "49/49 [==============================] - 2s 34ms/step - loss: 0.5441 - accuracy: 0.8241 - val_loss: 1.6005 - val_accuracy: 0.5009\n",
      "Epoch 21/50\n",
      "49/49 [==============================] - ETA: 0s - loss: 0.5148 - accuracy: 0.8330\n",
      "Epoch 00021: ReduceLROnPlateau reducing learning rate to 0.0002500000118743628.\n",
      "49/49 [==============================] - 2s 34ms/step - loss: 0.5148 - accuracy: 0.8330 - val_loss: 1.7135 - val_accuracy: 0.4859\n",
      "Epoch 22/50\n",
      "49/49 [==============================] - 2s 35ms/step - loss: 0.4369 - accuracy: 0.8690 - val_loss: 1.5518 - val_accuracy: 0.5195\n",
      "Epoch 23/50\n",
      "49/49 [==============================] - 2s 36ms/step - loss: 0.3988 - accuracy: 0.8861 - val_loss: 1.5882 - val_accuracy: 0.5186\n",
      "Epoch 24/50\n",
      "49/49 [==============================] - 2s 35ms/step - loss: 0.3781 - accuracy: 0.8943 - val_loss: 1.5818 - val_accuracy: 0.5239\n",
      "Epoch 25/50\n",
      "49/49 [==============================] - 2s 34ms/step - loss: 0.3606 - accuracy: 0.9001 - val_loss: 1.6440 - val_accuracy: 0.5212\n",
      "Epoch 26/50\n",
      "48/49 [============================>.] - ETA: 0s - loss: 0.3411 - accuracy: 0.9086\n",
      "Epoch 00026: ReduceLROnPlateau reducing learning rate to 0.0001250000059371814.\n",
      "49/49 [==============================] - 2s 33ms/step - loss: 0.3419 - accuracy: 0.9082 - val_loss: 1.6774 - val_accuracy: 0.5171\n",
      "Epoch 27/50\n",
      "49/49 [==============================] - 2s 34ms/step - loss: 0.3026 - accuracy: 0.9259 - val_loss: 1.6493 - val_accuracy: 0.5277\n",
      "Epoch 28/50\n",
      "49/49 [==============================] - 2s 34ms/step - loss: 0.2870 - accuracy: 0.9330 - val_loss: 1.6449 - val_accuracy: 0.5274\n",
      "Epoch 29/50\n",
      "49/49 [==============================] - 2s 34ms/step - loss: 0.2766 - accuracy: 0.9367 - val_loss: 1.6957 - val_accuracy: 0.5200\n",
      "Epoch 30/50\n",
      "49/49 [==============================] - 2s 34ms/step - loss: 0.2671 - accuracy: 0.9387 - val_loss: 1.6948 - val_accuracy: 0.5258\n",
      "Epoch 31/50\n",
      "49/49 [==============================] - ETA: 0s - loss: 0.2584 - accuracy: 0.9428\n",
      "Epoch 00031: ReduceLROnPlateau reducing learning rate to 6.25000029685907e-05.\n",
      "49/49 [==============================] - 2s 34ms/step - loss: 0.2584 - accuracy: 0.9428 - val_loss: 1.7028 - val_accuracy: 0.5286\n",
      "Epoch 32/50\n",
      "49/49 [==============================] - 2s 33ms/step - loss: 0.2392 - accuracy: 0.9512 - val_loss: 1.7020 - val_accuracy: 0.5308\n",
      "Epoch 33/50\n",
      "49/49 [==============================] - 2s 33ms/step - loss: 0.2331 - accuracy: 0.9542 - val_loss: 1.7094 - val_accuracy: 0.5290\n",
      "Epoch 34/50\n",
      "49/49 [==============================] - 2s 33ms/step - loss: 0.2274 - accuracy: 0.9565 - val_loss: 1.7305 - val_accuracy: 0.5291\n",
      "Epoch 35/50\n",
      "49/49 [==============================] - 2s 33ms/step - loss: 0.2225 - accuracy: 0.9581 - val_loss: 1.7258 - val_accuracy: 0.5249\n",
      "Epoch 36/50\n",
      "49/49 [==============================] - ETA: 0s - loss: 0.2186 - accuracy: 0.9587\n",
      "Epoch 00036: ReduceLROnPlateau reducing learning rate to 3.125000148429535e-05.\n",
      "49/49 [==============================] - 2s 33ms/step - loss: 0.2186 - accuracy: 0.9587 - val_loss: 1.7437 - val_accuracy: 0.5288\n",
      "Epoch 37/50\n",
      "49/49 [==============================] - 2s 34ms/step - loss: 0.2096 - accuracy: 0.9622 - val_loss: 1.7293 - val_accuracy: 0.5308\n",
      "Epoch 38/50\n",
      "49/49 [==============================] - 2s 35ms/step - loss: 0.2062 - accuracy: 0.9643 - val_loss: 1.7377 - val_accuracy: 0.5282\n",
      "Epoch 39/50\n",
      "49/49 [==============================] - 2s 34ms/step - loss: 0.2040 - accuracy: 0.9644 - val_loss: 1.7538 - val_accuracy: 0.5312\n",
      "Epoch 40/50\n",
      "49/49 [==============================] - 2s 35ms/step - loss: 0.2014 - accuracy: 0.9661 - val_loss: 1.7529 - val_accuracy: 0.5283\n",
      "Epoch 41/50\n",
      "49/49 [==============================] - ETA: 0s - loss: 0.1998 - accuracy: 0.9667\n",
      "Epoch 00041: ReduceLROnPlateau reducing learning rate to 1.5625000742147677e-05.\n",
      "49/49 [==============================] - 2s 34ms/step - loss: 0.1998 - accuracy: 0.9667 - val_loss: 1.7538 - val_accuracy: 0.5309\n"
     ]
    },
    {
     "name": "stdout",
     "output_type": "stream",
     "text": [
      "Epoch 42/50\n",
      "49/49 [==============================] - 2s 34ms/step - loss: 0.1958 - accuracy: 0.9674 - val_loss: 1.7602 - val_accuracy: 0.5272\n",
      "Epoch 43/50\n",
      "49/49 [==============================] - 2s 34ms/step - loss: 0.1943 - accuracy: 0.9674 - val_loss: 1.7638 - val_accuracy: 0.5256\n",
      "Epoch 44/50\n",
      "49/49 [==============================] - 2s 34ms/step - loss: 0.1925 - accuracy: 0.9685 - val_loss: 1.7644 - val_accuracy: 0.5275\n",
      "Epoch 45/50\n",
      "49/49 [==============================] - 2s 34ms/step - loss: 0.1919 - accuracy: 0.9691 - val_loss: 1.7680 - val_accuracy: 0.5278\n",
      "Epoch 46/50\n",
      "49/49 [==============================] - ETA: 0s - loss: 0.1910 - accuracy: 0.9689\n",
      "Epoch 00046: ReduceLROnPlateau reducing learning rate to 7.812500371073838e-06.\n",
      "49/49 [==============================] - 2s 34ms/step - loss: 0.1910 - accuracy: 0.9689 - val_loss: 1.7718 - val_accuracy: 0.5275\n",
      "Epoch 47/50\n",
      "49/49 [==============================] - 2s 34ms/step - loss: 0.1879 - accuracy: 0.9710 - val_loss: 1.7689 - val_accuracy: 0.5296\n",
      "Epoch 48/50\n",
      "49/49 [==============================] - 2s 34ms/step - loss: 0.1883 - accuracy: 0.9702 - val_loss: 1.7706 - val_accuracy: 0.5295\n",
      "Epoch 49/50\n",
      "49/49 [==============================] - 2s 34ms/step - loss: 0.1868 - accuracy: 0.9712 - val_loss: 1.7717 - val_accuracy: 0.5290\n",
      "Epoch 50/50\n",
      "49/49 [==============================] - 2s 34ms/step - loss: 0.1863 - accuracy: 0.9707 - val_loss: 1.7737 - val_accuracy: 0.5288\n"
     ]
    }
   ],
   "source": [
    "model = build_mlp(input_shape=x_train.shape[1:])\n",
    "model.summary()\n",
    "optimizer = keras.optimizers.Adam(lr=LEARNING_RATE)\n",
    "model.compile(loss=\"categorical_crossentropy\", metrics=[\"accuracy\"], optimizer=optimizer)\n",
    "\n",
    "model.fit(x_train, y_train, \n",
    "          epochs=EPOCHS, \n",
    "          batch_size=BATCH_SIZE, \n",
    "          validation_data=(x_test, y_test), \n",
    "          shuffle=True,\n",
    "          callbacks=[reduce_lr]\n",
    "         )\n",
    "\n",
    "# Collect results\n",
    "train_loss = model.history.history[\"loss\"]\n",
    "valid_loss = model.history.history[\"val_loss\"]\n",
    "train_acc = model.history.history[\"accuracy\"]\n",
    "valid_acc = model.history.history[\"val_accuracy\"]"
   ]
  },
  {
   "cell_type": "code",
   "execution_count": 10,
   "metadata": {},
   "outputs": [
    {
     "data": {
      "image/png": "[encoded data removed]",
      "text/plain": [
       "<Figure size 432x288 with 1 Axes>"
      ]
     },
     "metadata": {
      "needs_background": "light"
     },
     "output_type": "display_data"
    },
    {
     "data": {
      "image/png": "[encoded data removed]",
      "text/plain": [
       "<Figure size 432x288 with 1 Axes>"
      ]
     },
     "metadata": {
      "needs_background": "light"
     },
     "output_type": "display_data"
    }
   ],
   "source": [
    "import matplotlib.pyplot as plt\n",
    "%matplotlib inline\n",
    "\n",
    "plt.plot(range(len(train_loss)), train_loss, label=\"train loss\")\n",
    "plt.plot(range(len(valid_loss)), valid_loss, label=\"valid loss\")\n",
    "plt.legend()\n",
    "plt.title(\"Loss\")\n",
    "plt.show()\n",
    "\n",
    "plt.plot(range(len(train_acc)), train_acc, label=\"train accuracy\")\n",
    "plt.plot(range(len(valid_acc)), valid_acc, label=\"valid accuracy\")\n",
    "plt.legend()\n",
    "plt.title(\"Accuracy\")\n",
    "plt.show()"
   ]
  },
  {
   "cell_type": "markdown",
   "metadata": {},
   "source": [
    "## Work\n",
    "1. 請改變 reduce_lr 的 patience 和 factor 並比較不同設定下，對訓練/驗證集的影響\n",
    "2. 請將 optimizer 換成 Adam、RMSprop 搭配 reduce_lr 並比較訓練結果"
   ]
  }
 ],
 "metadata": {
  "kernelspec": {
   "display_name": "Python 3",
   "language": "python",
   "name": "python3"
  },
  "language_info": {
   "codemirror_mode": {
    "name": "ipython",
    "version": 3
   },
   "file_extension": ".py",
   "mimetype": "text/x-python",
   "name": "python",
   "nbconvert_exporter": "python",
   "pygments_lexer": "ipython3",
   "version": "3.7.5"
  }
 },
 "nbformat": 4,
 "nbformat_minor": 2
}
