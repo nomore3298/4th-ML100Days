{
  "cells": [
    {
      "cell_type": "markdown",
      "metadata": {
        "id": "H37U8L1k71Q_"
      },
      "source": [
        "## 範例重點\n",
        "* 學習如何在 keras 中加入 reduce learning rate\n",
        "* 知道如何設定 reduce_lr 的監控目標\n",
        "* 比較使用有無使用 reduce_lr 時的 performance"
      ]
    },
    {
      "cell_type": "code",
      "execution_count": 1,
      "metadata": {
        "id": "7dXouPcT71RD"
      },
      "outputs": [],
      "source": [
        "import os\n",
        "import keras\n",
        "import tensorflow as tf\n",
        "# 本範例不需使用 GPU, 將 GPU 設定為 \"無\"\n",
        "#os.environ[\"CUDA_VISIBLE_DEVICES\"] = \"\""
      ]
    },
    {
      "cell_type": "code",
      "execution_count": 2,
      "metadata": {
        "colab": {
          "base_uri": "https://localhost:8080/"
        },
        "id": "FEo52_ul71RF",
        "outputId": "67fd5e1e-d515-4829-a450-97088e9684ea"
      },
      "outputs": [
        {
          "output_type": "stream",
          "name": "stdout",
          "text": [
            "Downloading data from https://www.cs.toronto.edu/~kriz/cifar-10-python.tar.gz\n",
            "170500096/170498071 [==============================] - 2s 0us/step\n",
            "170508288/170498071 [==============================] - 2s 0us/step\n"
          ]
        }
      ],
      "source": [
        "train, test = tf.keras.datasets.cifar10.load_data()"
      ]
    },
    {
      "cell_type": "code",
      "execution_count": 3,
      "metadata": {
        "id": "nbSjUWPZ71RG"
      },
      "outputs": [],
      "source": [
        "## 資料前處理\n",
        "def preproc_x(x, flatten=True):\n",
        "    x = x / 255.\n",
        "    if flatten:\n",
        "        x = x.reshape((len(x), -1))\n",
        "    return x\n",
        "\n",
        "def preproc_y(y, num_classes=10):\n",
        "    if y.shape[-1] == 1:\n",
        "        y = tf.keras.utils.to_categorical(y, num_classes)\n",
        "    return y    "
      ]
    },
    {
      "cell_type": "code",
      "execution_count": 4,
      "metadata": {
        "id": "IOaSMWOU71RG"
      },
      "outputs": [],
      "source": [
        "x_train, y_train = train\n",
        "x_test, y_test = test\n",
        "\n",
        "# 資料前處理 - X 標準化\n",
        "x_train = preproc_x(x_train)\n",
        "x_test = preproc_x(x_test)\n",
        "\n",
        "# 資料前處理 -Y 轉成 onehot\n",
        "y_train = preproc_y(y_train)\n",
        "y_test = preproc_y(y_test)"
      ]
    },
    {
      "cell_type": "code",
      "execution_count": 5,
      "metadata": {
        "id": "SPJ9eOuh71RH"
      },
      "outputs": [],
      "source": [
        "from keras.layers import BatchNormalization\n",
        "\n",
        "\"\"\"\n",
        "建立神經網路，並加入 BN layer\n",
        "\"\"\"\n",
        "def build_mlp(input_shape, output_units=10, num_neurons=[512, 256, 128]):\n",
        "    input_layer = keras.layers.Input(input_shape)\n",
        "    \n",
        "    for i, n_units in enumerate(num_neurons):\n",
        "        if i == 0:\n",
        "            x = keras.layers.Dense(units=n_units, \n",
        "                                   activation=\"relu\", \n",
        "                                   name=\"hidden_layer\"+str(i+1))(input_layer)\n",
        "            x = BatchNormalization()(x)\n",
        "        else:\n",
        "            x = keras.layers.Dense(units=n_units, \n",
        "                                   activation=\"relu\", \n",
        "                                   name=\"hidden_layer\"+str(i+1))(x)\n",
        "            x = BatchNormalization()(x)\n",
        "    \n",
        "    out = keras.layers.Dense(units=output_units, activation=\"softmax\", name=\"output\")(x)\n",
        "    \n",
        "    model = keras.models.Model(inputs=[input_layer], outputs=[out])\n",
        "    return model"
      ]
    },
    {
      "cell_type": "code",
      "execution_count": 7,
      "metadata": {
        "id": "c9_rrwXp71RI"
      },
      "outputs": [],
      "source": [
        "## 超參數設定\n",
        "LEARNING_RATE = 1e-3\n",
        "EPOCHS = 10\n",
        "BATCH_SIZE = 1024\n",
        "MOMENTUM = 0.95"
      ]
    },
    {
      "cell_type": "code",
      "execution_count": 8,
      "metadata": {
        "id": "B5KcUzZP71RJ"
      },
      "outputs": [],
      "source": [
        "\"\"\"\n",
        "# 載入 Callbacks, 並設定監控目標為 validation loss\n",
        "\n",
        "參數說明：\n",
        "monitor: 監控目標\n",
        "min_lr: 最低下降至多少學習率\n",
        "factor: 每次學習率要下降多少\n",
        "patience: 經過多少 Epoch 後模型沒有改善時會使用該功能\n",
        "\n",
        "\"\"\"\n",
        "from keras.callbacks import ReduceLROnPlateau\n",
        "\n",
        "reduce_lr = ReduceLROnPlateau(factor=0.5, \n",
        "                              min_lr=1e-12, \n",
        "                              monitor='val_loss', \n",
        "                              patience=5, \n",
        "                              verbose=1)"
      ]
    },
    {
      "cell_type": "code",
      "source": [
        "\"\"\"\n",
        "# 載入 Callbacks, 並設定監控目標為 validation loss\n",
        "\n",
        "參數說明：\n",
        "monitor: 監控目標\n",
        "min_lr: 最低下降至多少學習率\n",
        "factor: 每次學習率要下降多少\n",
        "patience: 經過多少 Epoch 後模型沒有改善時會使用該功能\n",
        "\n",
        "\"\"\"\n",
        "from keras.callbacks import ReduceLROnPlateau\n",
        "\n",
        "reduce_lr = ReduceLROnPlateau(factor=0.1, \n",
        "                              min_lr=1e-12, \n",
        "                              monitor='val_loss', \n",
        "                              patience=10, \n",
        "                              verbose=1)"
      ],
      "metadata": {
        "id": "-U8fo5Eq8pr9"
      },
      "execution_count": 12,
      "outputs": []
    },
    {
      "cell_type": "code",
      "source": [
        "model = build_mlp(input_shape=x_train.shape[1:])\n",
        "model.summary()\n",
        "optimizer = tf.keras.optimizers.Adam(lr=LEARNING_RATE)\n",
        "model.compile(loss=\"categorical_crossentropy\", metrics=[\"accuracy\"], optimizer=optimizer)\n",
        "\n",
        "model.fit(x_train, y_train, \n",
        "          epochs=EPOCHS, \n",
        "          batch_size=BATCH_SIZE, \n",
        "          validation_data=(x_test, y_test), \n",
        "          shuffle=True,\n",
        "          callbacks=[reduce_lr]\n",
        "         )\n",
        "\n",
        "# Collect results\n",
        "train_loss = model.history.history[\"loss\"]\n",
        "valid_loss = model.history.history[\"val_loss\"]\n",
        "train_acc = model.history.history[\"accuracy\"]\n",
        "valid_acc = model.history.history[\"val_accuracy\"]"
      ],
      "metadata": {
        "colab": {
          "base_uri": "https://localhost:8080/"
        },
        "id": "Cl-XhfWb8Own",
        "outputId": "1a60b593-f5bb-4618-8e47-cca744087b44"
      },
      "execution_count": 13,
      "outputs": [
        {
          "output_type": "stream",
          "name": "stdout",
          "text": [
            "Model: \"model_2\"\n",
            "_________________________________________________________________\n",
            " Layer (type)                Output Shape              Param #   \n",
            "=================================================================\n",
            " input_3 (InputLayer)        [(None, 3072)]            0         \n",
            "                                                                 \n",
            " hidden_layer1 (Dense)       (None, 512)               1573376   \n",
            "                                                                 \n",
            " batch_normalization_6 (Batc  (None, 512)              2048      \n",
            " hNormalization)                                                 \n",
            "                                                                 \n",
            " hidden_layer2 (Dense)       (None, 256)               131328    \n",
            "                                                                 \n",
            " batch_normalization_7 (Batc  (None, 256)              1024      \n",
            " hNormalization)                                                 \n",
            "                                                                 \n",
            " hidden_layer3 (Dense)       (None, 128)               32896     \n",
            "                                                                 \n",
            " batch_normalization_8 (Batc  (None, 128)              512       \n",
            " hNormalization)                                                 \n",
            "                                                                 \n",
            " output (Dense)              (None, 10)                1290      \n",
            "                                                                 \n",
            "=================================================================\n",
            "Total params: 1,742,474\n",
            "Trainable params: 1,740,682\n",
            "Non-trainable params: 1,792\n",
            "_________________________________________________________________\n"
          ]
        },
        {
          "output_type": "stream",
          "name": "stderr",
          "text": [
            "/usr/local/lib/python3.7/dist-packages/keras/optimizer_v2/adam.py:105: UserWarning: The `lr` argument is deprecated, use `learning_rate` instead.\n",
            "  super(Adam, self).__init__(name, **kwargs)\n"
          ]
        },
        {
          "output_type": "stream",
          "name": "stdout",
          "text": [
            "Epoch 1/10\n",
            "49/49 [==============================] - 2s 30ms/step - loss: 1.7854 - accuracy: 0.3805 - val_loss: 3.6765 - val_accuracy: 0.1350 - lr: 0.0010\n",
            "Epoch 2/10\n",
            "49/49 [==============================] - 1s 22ms/step - loss: 1.5101 - accuracy: 0.4682 - val_loss: 1.7955 - val_accuracy: 0.3602 - lr: 0.0010\n",
            "Epoch 3/10\n",
            "49/49 [==============================] - 1s 21ms/step - loss: 1.4073 - accuracy: 0.5034 - val_loss: 1.7231 - val_accuracy: 0.3820 - lr: 0.0010\n",
            "Epoch 4/10\n",
            "49/49 [==============================] - 1s 15ms/step - loss: 1.3286 - accuracy: 0.5314 - val_loss: 1.6532 - val_accuracy: 0.4109 - lr: 0.0010\n",
            "Epoch 5/10\n",
            "49/49 [==============================] - 1s 13ms/step - loss: 1.2543 - accuracy: 0.5575 - val_loss: 1.6519 - val_accuracy: 0.4048 - lr: 0.0010\n",
            "Epoch 6/10\n",
            "49/49 [==============================] - 1s 13ms/step - loss: 1.2033 - accuracy: 0.5779 - val_loss: 1.8772 - val_accuracy: 0.3671 - lr: 0.0010\n",
            "Epoch 7/10\n",
            "49/49 [==============================] - 1s 13ms/step - loss: 1.1466 - accuracy: 0.5964 - val_loss: 1.7700 - val_accuracy: 0.4067 - lr: 0.0010\n",
            "Epoch 8/10\n",
            "49/49 [==============================] - 1s 14ms/step - loss: 1.0917 - accuracy: 0.6168 - val_loss: 1.6666 - val_accuracy: 0.4217 - lr: 0.0010\n",
            "Epoch 9/10\n",
            "49/49 [==============================] - 1s 13ms/step - loss: 1.0529 - accuracy: 0.6302 - val_loss: 1.7921 - val_accuracy: 0.3983 - lr: 0.0010\n",
            "Epoch 10/10\n",
            "49/49 [==============================] - 1s 13ms/step - loss: 1.0193 - accuracy: 0.6415 - val_loss: 1.7596 - val_accuracy: 0.4119 - lr: 0.0010\n"
          ]
        }
      ]
    },
    {
      "cell_type": "code",
      "source": [
        "import matplotlib.pyplot as plt\n",
        "%matplotlib inline\n",
        "\n",
        "plt.plot(range(len(train_loss)), train_loss, label=\"train loss\")\n",
        "plt.plot(range(len(valid_loss)), valid_loss, label=\"valid loss\")\n",
        "plt.legend()\n",
        "plt.title(\"Loss\")\n",
        "plt.show()\n",
        "\n",
        "plt.plot(range(len(train_acc)), train_acc, label=\"train accuracy\")\n",
        "plt.plot(range(len(valid_acc)), valid_acc, label=\"valid accuracy\")\n",
        "plt.legend()\n",
        "plt.title(\"Accuracy\")\n",
        "plt.show()"
      ],
      "metadata": {
        "colab": {
          "base_uri": "https://localhost:8080/",
          "height": 545
        },
        "id": "9AEr1xdo8z7s",
        "outputId": "28a09a82-cfcb-4753-ddb0-abf2a0a1205a"
      },
      "execution_count": 14,
      "outputs": [
        {
          "output_type": "display_data",
          "data": {
            "text/plain": [
              "<Figure size 432x288 with 1 Axes>"
            ],
            "image/png": "[encoded data removed]"
          },
          "metadata": {
            "needs_background": "light"
          }
        },
        {
          "output_type": "display_data",
          "data": {
            "text/plain": [
              "<Figure size 432x288 with 1 Axes>"
            ],
            "image/png": "[encoded data removed]"
          },
          "metadata": {
            "needs_background": "light"
          }
        }
      ]
    },
    {
      "cell_type": "code",
      "execution_count": 10,
      "metadata": {
        "scrolled": true,
        "colab": {
          "base_uri": "https://localhost:8080/"
        },
        "id": "XdwxnfI771RJ",
        "outputId": "cb754336-a7ff-4387-a741-039ee7394732"
      },
      "outputs": [
        {
          "output_type": "stream",
          "name": "stdout",
          "text": [
            "Model: \"model_1\"\n",
            "_________________________________________________________________\n",
            " Layer (type)                Output Shape              Param #   \n",
            "=================================================================\n",
            " input_2 (InputLayer)        [(None, 3072)]            0         \n",
            "                                                                 \n",
            " hidden_layer1 (Dense)       (None, 512)               1573376   \n",
            "                                                                 \n",
            " batch_normalization_3 (Batc  (None, 512)              2048      \n",
            " hNormalization)                                                 \n",
            "                                                                 \n",
            " hidden_layer2 (Dense)       (None, 256)               131328    \n",
            "                                                                 \n",
            " batch_normalization_4 (Batc  (None, 256)              1024      \n",
            " hNormalization)                                                 \n",
            "                                                                 \n",
            " hidden_layer3 (Dense)       (None, 128)               32896     \n",
            "                                                                 \n",
            " batch_normalization_5 (Batc  (None, 128)              512       \n",
            " hNormalization)                                                 \n",
            "                                                                 \n",
            " output (Dense)              (None, 10)                1290      \n",
            "                                                                 \n",
            "=================================================================\n",
            "Total params: 1,742,474\n",
            "Trainable params: 1,740,682\n",
            "Non-trainable params: 1,792\n",
            "_________________________________________________________________\n"
          ]
        },
        {
          "output_type": "stream",
          "name": "stderr",
          "text": [
            "/usr/local/lib/python3.7/dist-packages/keras/optimizer_v2/adam.py:105: UserWarning: The `lr` argument is deprecated, use `learning_rate` instead.\n",
            "  super(Adam, self).__init__(name, **kwargs)\n"
          ]
        },
        {
          "output_type": "stream",
          "name": "stdout",
          "text": [
            "Epoch 1/10\n",
            "49/49 [==============================] - 4s 19ms/step - loss: 1.7504 - accuracy: 0.3934 - val_loss: 2.5459 - val_accuracy: 0.2131 - lr: 0.0010\n",
            "Epoch 2/10\n",
            "49/49 [==============================] - 1s 13ms/step - loss: 1.4868 - accuracy: 0.4774 - val_loss: 1.9429 - val_accuracy: 0.3288 - lr: 0.0010\n",
            "Epoch 3/10\n",
            "49/49 [==============================] - 1s 13ms/step - loss: 1.3874 - accuracy: 0.5106 - val_loss: 1.7466 - val_accuracy: 0.3850 - lr: 0.0010\n",
            "Epoch 4/10\n",
            "49/49 [==============================] - 1s 13ms/step - loss: 1.3100 - accuracy: 0.5377 - val_loss: 1.7741 - val_accuracy: 0.3717 - lr: 0.0010\n",
            "Epoch 5/10\n",
            "49/49 [==============================] - 1s 13ms/step - loss: 1.2500 - accuracy: 0.5596 - val_loss: 1.8973 - val_accuracy: 0.3425 - lr: 0.0010\n",
            "Epoch 6/10\n",
            "49/49 [==============================] - 1s 13ms/step - loss: 1.1897 - accuracy: 0.5832 - val_loss: 1.6549 - val_accuracy: 0.4221 - lr: 0.0010\n",
            "Epoch 7/10\n",
            "49/49 [==============================] - 1s 13ms/step - loss: 1.1356 - accuracy: 0.6001 - val_loss: 1.7705 - val_accuracy: 0.3764 - lr: 0.0010\n",
            "Epoch 8/10\n",
            "49/49 [==============================] - 1s 12ms/step - loss: 1.0959 - accuracy: 0.6150 - val_loss: 2.4586 - val_accuracy: 0.3009 - lr: 0.0010\n",
            "Epoch 9/10\n",
            "49/49 [==============================] - 1s 13ms/step - loss: 1.0497 - accuracy: 0.6310 - val_loss: 1.9946 - val_accuracy: 0.3736 - lr: 0.0010\n",
            "Epoch 10/10\n",
            "49/49 [==============================] - 1s 12ms/step - loss: 1.0030 - accuracy: 0.6481 - val_loss: 1.7916 - val_accuracy: 0.4064 - lr: 0.0010\n"
          ]
        }
      ],
      "source": [
        "model = build_mlp(input_shape=x_train.shape[1:])\n",
        "model.summary()\n",
        "optimizer = tf.keras.optimizers.RMSprop(lr=LEARNING_RATE)\n",
        "model.compile(loss=\"categorical_crossentropy\", metrics=[\"accuracy\"], optimizer=optimizer)\n",
        "\n",
        "model.fit(x_train, y_train, \n",
        "          epochs=EPOCHS, \n",
        "          batch_size=BATCH_SIZE, \n",
        "          validation_data=(x_test, y_test), \n",
        "          shuffle=True,\n",
        "          callbacks=[reduce_lr]\n",
        "         )\n",
        "\n",
        "# Collect results\n",
        "train_loss = model.history.history[\"loss\"]\n",
        "valid_loss = model.history.history[\"val_loss\"]\n",
        "train_acc = model.history.history[\"accuracy\"]\n",
        "valid_acc = model.history.history[\"val_accuracy\"]"
      ]
    },
    {
      "cell_type": "code",
      "execution_count": 11,
      "metadata": {
        "colab": {
          "base_uri": "https://localhost:8080/",
          "height": 545
        },
        "id": "drmX-2um71RK",
        "outputId": "6965a594-0a07-4eaf-b78b-7fec5fd07d5b"
      },
      "outputs": [
        {
          "output_type": "display_data",
          "data": {
            "text/plain": [
              "<Figure size 432x288 with 1 Axes>"
            ],
            "image/png": "[encoded data removed]"
          },
          "metadata": {
            "needs_background": "light"
          }
        },
        {
          "output_type": "display_data",
          "data": {
            "text/plain": [
              "<Figure size 432x288 with 1 Axes>"
            ],
            "image/png": "[encoded data removed]"
          },
          "metadata": {
            "needs_background": "light"
          }
        }
      ],
      "source": [
        "import matplotlib.pyplot as plt\n",
        "%matplotlib inline\n",
        "\n",
        "plt.plot(range(len(train_loss)), train_loss, label=\"train loss\")\n",
        "plt.plot(range(len(valid_loss)), valid_loss, label=\"valid loss\")\n",
        "plt.legend()\n",
        "plt.title(\"Loss\")\n",
        "plt.show()\n",
        "\n",
        "plt.plot(range(len(train_acc)), train_acc, label=\"train accuracy\")\n",
        "plt.plot(range(len(valid_acc)), valid_acc, label=\"valid accuracy\")\n",
        "plt.legend()\n",
        "plt.title(\"Accuracy\")\n",
        "plt.show()"
      ]
    },
    {
      "cell_type": "markdown",
      "metadata": {
        "id": "TyWnXdDe71RL"
      },
      "source": [
        "## Work\n",
        "1. 請改變 reduce_lr 的 patience 和 factor 並比較不同設定下，對訓練/驗證集的影響\n",
        "2. 請將 optimizer 換成 Adam、RMSprop 搭配 reduce_lr 並比較訓練結果"
      ]
    }
  ],
  "metadata": {
    "kernelspec": {
      "display_name": "Python 3",
      "language": "python",
      "name": "python3"
    },
    "language_info": {
      "codemirror_mode": {
        "name": "ipython",
        "version": 3
      },
      "file_extension": ".py",
      "mimetype": "text/x-python",
      "name": "python",
      "nbconvert_exporter": "python",
      "pygments_lexer": "ipython3",
      "version": "3.7.5"
    },
    "colab": {
      "name": "Day087_CB_ReduceLR_範例 .ipynb",
      "provenance": []
    },
    "accelerator": "GPU"
  },
  "nbformat": 4,
  "nbformat_minor": 0
}