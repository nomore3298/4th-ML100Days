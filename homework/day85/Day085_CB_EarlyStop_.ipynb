{
  "cells": [
    {
      "cell_type": "markdown",
      "metadata": {
        "id": "RjFSLPCH-Hce"
      },
      "source": [
        "## 範例重點\n",
        "* 學習如何在 keras 中加入 EarlyStop\n",
        "* 知道如何設定監控目標\n",
        "* 比較有無 earlystopping 對 validation 的影響"
      ]
    },
    {
      "cell_type": "code",
      "execution_count": 1,
      "metadata": {
        "id": "g3Y9u9Cd-Hck"
      },
      "outputs": [],
      "source": [
        "import os\n",
        "import keras\n",
        "import tensorflow as tf\n",
        "# 本範例不需使用 GPU, 將 GPU 設定為 \"無\"\n",
        "#os.environ[\"CUDA_VISIBLE_DEVICES\"] = \"\""
      ]
    },
    {
      "cell_type": "code",
      "execution_count": 2,
      "metadata": {
        "colab": {
          "base_uri": "https://localhost:8080/"
        },
        "id": "MZxXGpR--Hcn",
        "outputId": "745bbfd5-54c7-4836-ca26-9c0fb73e3268"
      },
      "outputs": [
        {
          "output_type": "stream",
          "name": "stdout",
          "text": [
            "Downloading data from https://www.cs.toronto.edu/~kriz/cifar-10-python.tar.gz\n",
            "170500096/170498071 [==============================] - 9s 0us/step\n",
            "170508288/170498071 [==============================] - 9s 0us/step\n"
          ]
        }
      ],
      "source": [
        "train, test = tf.keras.datasets.cifar10.load_data()"
      ]
    },
    {
      "cell_type": "code",
      "execution_count": 3,
      "metadata": {
        "id": "YBjqom0J-Hcn"
      },
      "outputs": [],
      "source": [
        "## 資料前處理\n",
        "def preproc_x(x, flatten=True):\n",
        "    x = x / 255.\n",
        "    if flatten:\n",
        "        x = x.reshape((len(x), -1))\n",
        "    return x\n",
        "\n",
        "def preproc_y(y, num_classes=10):\n",
        "    if y.shape[-1] == 1:\n",
        "        y = tf.keras.utils.to_categorical(y, num_classes)\n",
        "    return y    "
      ]
    },
    {
      "cell_type": "code",
      "execution_count": 4,
      "metadata": {
        "id": "__88Ez_w-Hco"
      },
      "outputs": [],
      "source": [
        "x_train, y_train = train\n",
        "x_test, y_test = test\n",
        "\n",
        "# 資料前處理 - X 標準化\n",
        "x_train = preproc_x(x_train)\n",
        "x_test = preproc_x(x_test)\n",
        "\n",
        "# 資料前處理 -Y 轉成 onehot\n",
        "y_train = preproc_y(y_train)\n",
        "y_test = preproc_y(y_test)"
      ]
    },
    {
      "cell_type": "code",
      "execution_count": 5,
      "metadata": {
        "id": "zXiGeEkC-Hcp"
      },
      "outputs": [],
      "source": [
        "from keras.layers import BatchNormalization\n",
        "\n",
        "\"\"\"\n",
        "建立神經網路，並加入 BN layer\n",
        "\"\"\"\n",
        "def build_mlp(input_shape, output_units=10, num_neurons=[512, 256, 128]):\n",
        "    input_layer = keras.layers.Input(input_shape)\n",
        "    \n",
        "    for i, n_units in enumerate(num_neurons):\n",
        "        if i == 0:\n",
        "            x = keras.layers.Dense(units=n_units, \n",
        "                                   activation=\"relu\", \n",
        "                                   name=\"hidden_layer\"+str(i+1))(input_layer)\n",
        "            x = BatchNormalization()(x)\n",
        "        else:\n",
        "            x = keras.layers.Dense(units=n_units, \n",
        "                                   activation=\"relu\", \n",
        "                                   name=\"hidden_layer\"+str(i+1))(x)\n",
        "            x = BatchNormalization()(x)\n",
        "    \n",
        "    out = keras.layers.Dense(units=output_units, activation=\"softmax\", name=\"output\")(x)\n",
        "    \n",
        "    model = keras.models.Model(inputs=[input_layer], outputs=[out])\n",
        "    return model"
      ]
    },
    {
      "cell_type": "code",
      "execution_count": 6,
      "metadata": {
        "id": "QYeMgJCY-Hcq"
      },
      "outputs": [],
      "source": [
        "## 超參數設定\n",
        "LEARNING_RATE = 1e-3\n",
        "EPOCHS = 50\n",
        "BATCH_SIZE = 1024\n",
        "MOMENTUM = 0.95"
      ]
    },
    {
      "cell_type": "code",
      "source": [
        ""
      ],
      "metadata": {
        "id": "uFZmzKU-_ORo"
      },
      "execution_count": null,
      "outputs": []
    },
    {
      "cell_type": "code",
      "execution_count": 7,
      "metadata": {
        "id": "gJbRbyD2-Hcr"
      },
      "outputs": [],
      "source": [
        "\"\"\"\n",
        "# 載入 Callbacks, 並將 monitor 設定為監控 validation loss\n",
        "\n",
        "參數說明：\n",
        "patience: 經過多少epochs後仍然沒有改善模型效能時停止訓練。\n",
        "verbose: 運作狀況\n",
        "\n",
        "使用說明：先定義出 Early stopping 的規則，再放入模型訓練中。\n",
        "\n",
        "\"\"\"\n",
        "\n",
        "callback = tf.keras.callbacks.EarlyStopping(monitor='loss', patience=3)\n",
        "\n",
        "from keras.callbacks import EarlyStopping\n",
        "\n",
        "earlystop = EarlyStopping(monitor=\"val_loss\", \n",
        "                          patience=5, \n",
        "                          verbose=1\n",
        "                          )"
      ]
    },
    {
      "cell_type": "code",
      "execution_count": null,
      "metadata": {
        "scrolled": true,
        "id": "icJPhd75-Hcr"
      },
      "outputs": [],
      "source": [
        "model = build_mlp(input_shape=x_train.shape[1:])\n",
        "model.summary()\n",
        "optimizer = tf.keras.optimizers.SGD(lr=LEARNING_RATE, nesterov=True, momentum=MOMENTUM)\n",
        "model.compile(loss=\"categorical_crossentropy\", metrics=[\"accuracy\"], optimizer=optimizer)\n",
        "\n",
        "model.fit(x_train, y_train, \n",
        "          epochs=EPOCHS, \n",
        "          batch_size=BATCH_SIZE, \n",
        "          validation_data=(x_test, y_test), \n",
        "          shuffle=True,\n",
        "          callbacks=[earlystop]\n",
        "         )\n",
        "\n",
        "# Collect results\n",
        "train_loss = model.history.history[\"loss\"]\n",
        "valid_loss = model.history.history[\"val_loss\"]\n",
        "train_acc = model.history.history[\"accuracy\"]\n",
        "valid_acc = model.history.history[\"val_accuracy\"]"
      ]
    },
    {
      "cell_type": "code",
      "execution_count": 11,
      "metadata": {
        "colab": {
          "base_uri": "https://localhost:8080/",
          "height": 545
        },
        "id": "MnlyeImU-Hcs",
        "outputId": "e7699730-4313-4efa-c755-87ef52752a7c"
      },
      "outputs": [
        {
          "output_type": "display_data",
          "data": {
            "text/plain": [
              "<Figure size 432x288 with 1 Axes>"
            ],
            "image/png": "[encoded data removed]"
          },
          "metadata": {
            "needs_background": "light"
          }
        },
        {
          "output_type": "display_data",
          "data": {
            "text/plain": [
              "<Figure size 432x288 with 1 Axes>"
            ],
            "image/png": "[encoded data removed]"
          },
          "metadata": {
            "needs_background": "light"
          }
        }
      ],
      "source": [
        "import matplotlib.pyplot as plt\n",
        "%matplotlib inline\n",
        "\n",
        "plt.plot(range(len(train_loss)), train_loss, label=\"train loss\")\n",
        "plt.plot(range(len(valid_loss)), valid_loss, label=\"valid loss\")\n",
        "plt.legend()\n",
        "plt.title(\"Loss\")\n",
        "plt.show()\n",
        "\n",
        "plt.plot(range(len(train_acc)), train_acc, label=\"train accuracy\")\n",
        "plt.plot(range(len(valid_acc)), valid_acc, label=\"valid accuracy\")\n",
        "plt.legend()\n",
        "plt.title(\"Accuracy\")\n",
        "plt.show()"
      ]
    },
    {
      "cell_type": "markdown",
      "metadata": {
        "id": "21YbXszt-Hct"
      },
      "source": [
        "## Work\n",
        "1. 試改變 monitor \"Validation Accuracy\" 並比較結果\n",
        "2. 調整 earlystop 的等待次數至 10, 25 並比較結果"
      ]
    },
    {
      "cell_type": "code",
      "source": [
        "from keras.callbacks import EarlyStopping\n",
        "\n",
        "earlystop = EarlyStopping(monitor=\"val_loss\", \n",
        "                          patience=10, \n",
        "                          verbose=1\n",
        "                          )"
      ],
      "metadata": {
        "id": "qo_kEgNe_Z-n"
      },
      "execution_count": 12,
      "outputs": []
    },
    {
      "cell_type": "code",
      "source": [
        "model = build_mlp(input_shape=x_train.shape[1:])\n",
        "model.summary()\n",
        "optimizer = tf.keras.optimizers.SGD(lr=LEARNING_RATE, nesterov=True, momentum=MOMENTUM)\n",
        "model.compile(loss=\"categorical_crossentropy\", metrics=[\"accuracy\"], optimizer=optimizer)\n",
        "\n",
        "model.fit(x_train, y_train, \n",
        "          epochs=EPOCHS, \n",
        "          batch_size=BATCH_SIZE, \n",
        "          validation_data=(x_test, y_test), \n",
        "          shuffle=True,\n",
        "          callbacks=[earlystop]\n",
        "         )\n",
        "\n",
        "# Collect results\n",
        "train_loss = model.history.history[\"loss\"]\n",
        "valid_loss = model.history.history[\"val_loss\"]\n",
        "train_acc = model.history.history[\"accuracy\"]\n",
        "valid_acc = model.history.history[\"val_accuracy\"]"
      ],
      "metadata": {
        "colab": {
          "base_uri": "https://localhost:8080/"
        },
        "id": "F7Vc7dff_bh2",
        "outputId": "b990adc3-3033-40c9-e265-96bcc181a77e"
      },
      "execution_count": 13,
      "outputs": [
        {
          "output_type": "stream",
          "name": "stdout",
          "text": [
            "Model: \"model_3\"\n",
            "_________________________________________________________________\n",
            " Layer (type)                Output Shape              Param #   \n",
            "=================================================================\n",
            " input_4 (InputLayer)        [(None, 3072)]            0         \n",
            "                                                                 \n",
            " hidden_layer1 (Dense)       (None, 512)               1573376   \n",
            "                                                                 \n",
            " batch_normalization_9 (Batc  (None, 512)              2048      \n",
            " hNormalization)                                                 \n",
            "                                                                 \n",
            " hidden_layer2 (Dense)       (None, 256)               131328    \n",
            "                                                                 \n",
            " batch_normalization_10 (Bat  (None, 256)              1024      \n",
            " chNormalization)                                                \n",
            "                                                                 \n",
            " hidden_layer3 (Dense)       (None, 128)               32896     \n",
            "                                                                 \n",
            " batch_normalization_11 (Bat  (None, 128)              512       \n",
            " chNormalization)                                                \n",
            "                                                                 \n",
            " output (Dense)              (None, 10)                1290      \n",
            "                                                                 \n",
            "=================================================================\n",
            "Total params: 1,742,474\n",
            "Trainable params: 1,740,682\n",
            "Non-trainable params: 1,792\n",
            "_________________________________________________________________\n"
          ]
        },
        {
          "output_type": "stream",
          "name": "stderr",
          "text": [
            "/usr/local/lib/python3.7/dist-packages/keras/optimizer_v2/gradient_descent.py:102: UserWarning: The `lr` argument is deprecated, use `learning_rate` instead.\n",
            "  super(SGD, self).__init__(name, **kwargs)\n"
          ]
        },
        {
          "output_type": "stream",
          "name": "stdout",
          "text": [
            "Epoch 1/50\n",
            "49/49 [==============================] - 2s 19ms/step - loss: 2.1875 - accuracy: 0.2746 - val_loss: 2.1177 - val_accuracy: 0.2399\n",
            "Epoch 2/50\n",
            "49/49 [==============================] - 1s 14ms/step - loss: 1.7405 - accuracy: 0.3904 - val_loss: 1.9443 - val_accuracy: 0.3072\n",
            "Epoch 3/50\n",
            "49/49 [==============================] - 1s 13ms/step - loss: 1.6164 - accuracy: 0.4337 - val_loss: 1.8204 - val_accuracy: 0.3518\n",
            "Epoch 4/50\n",
            "49/49 [==============================] - 1s 20ms/step - loss: 1.5402 - accuracy: 0.4604 - val_loss: 1.7163 - val_accuracy: 0.3956\n",
            "Epoch 5/50\n",
            "49/49 [==============================] - 1s 17ms/step - loss: 1.4851 - accuracy: 0.4803 - val_loss: 1.6428 - val_accuracy: 0.4206\n",
            "Epoch 6/50\n",
            "49/49 [==============================] - 1s 24ms/step - loss: 1.4383 - accuracy: 0.4974 - val_loss: 1.5865 - val_accuracy: 0.4431\n",
            "Epoch 7/50\n",
            "49/49 [==============================] - 1s 22ms/step - loss: 1.3971 - accuracy: 0.5127 - val_loss: 1.5572 - val_accuracy: 0.4527\n",
            "Epoch 8/50\n",
            "49/49 [==============================] - 1s 19ms/step - loss: 1.3623 - accuracy: 0.5262 - val_loss: 1.5260 - val_accuracy: 0.4585\n",
            "Epoch 9/50\n",
            "49/49 [==============================] - 1s 22ms/step - loss: 1.3283 - accuracy: 0.5376 - val_loss: 1.5044 - val_accuracy: 0.4666\n",
            "Epoch 10/50\n",
            "49/49 [==============================] - 1s 21ms/step - loss: 1.2973 - accuracy: 0.5504 - val_loss: 1.4968 - val_accuracy: 0.4757\n",
            "Epoch 11/50\n",
            "49/49 [==============================] - 1s 20ms/step - loss: 1.2694 - accuracy: 0.5585 - val_loss: 1.4889 - val_accuracy: 0.4748\n",
            "Epoch 12/50\n",
            "49/49 [==============================] - 1s 24ms/step - loss: 1.2409 - accuracy: 0.5700 - val_loss: 1.4718 - val_accuracy: 0.4820\n",
            "Epoch 13/50\n",
            "49/49 [==============================] - 1s 23ms/step - loss: 1.2153 - accuracy: 0.5800 - val_loss: 1.4844 - val_accuracy: 0.4806\n",
            "Epoch 14/50\n",
            "49/49 [==============================] - 1s 22ms/step - loss: 1.1874 - accuracy: 0.5910 - val_loss: 1.4724 - val_accuracy: 0.4809\n",
            "Epoch 15/50\n",
            "49/49 [==============================] - 1s 22ms/step - loss: 1.1625 - accuracy: 0.5991 - val_loss: 1.4635 - val_accuracy: 0.4843\n",
            "Epoch 16/50\n",
            "49/49 [==============================] - 1s 16ms/step - loss: 1.1385 - accuracy: 0.6100 - val_loss: 1.4611 - val_accuracy: 0.4890\n",
            "Epoch 17/50\n",
            "49/49 [==============================] - 1s 13ms/step - loss: 1.1151 - accuracy: 0.6188 - val_loss: 1.4688 - val_accuracy: 0.4889\n",
            "Epoch 18/50\n",
            "49/49 [==============================] - 1s 13ms/step - loss: 1.0910 - accuracy: 0.6275 - val_loss: 1.4666 - val_accuracy: 0.4854\n",
            "Epoch 19/50\n",
            "49/49 [==============================] - 1s 13ms/step - loss: 1.0694 - accuracy: 0.6346 - val_loss: 1.4588 - val_accuracy: 0.4868\n",
            "Epoch 20/50\n",
            "49/49 [==============================] - 1s 13ms/step - loss: 1.0459 - accuracy: 0.6435 - val_loss: 1.4652 - val_accuracy: 0.4868\n",
            "Epoch 21/50\n",
            "49/49 [==============================] - 1s 13ms/step - loss: 1.0241 - accuracy: 0.6538 - val_loss: 1.4614 - val_accuracy: 0.4901\n",
            "Epoch 22/50\n",
            "49/49 [==============================] - 1s 13ms/step - loss: 1.0035 - accuracy: 0.6616 - val_loss: 1.4650 - val_accuracy: 0.4911\n",
            "Epoch 23/50\n",
            "49/49 [==============================] - 1s 13ms/step - loss: 0.9800 - accuracy: 0.6682 - val_loss: 1.4621 - val_accuracy: 0.4943\n",
            "Epoch 24/50\n",
            "49/49 [==============================] - 1s 13ms/step - loss: 0.9605 - accuracy: 0.6766 - val_loss: 1.4707 - val_accuracy: 0.4891\n",
            "Epoch 25/50\n",
            "49/49 [==============================] - 1s 13ms/step - loss: 0.9367 - accuracy: 0.6865 - val_loss: 1.4835 - val_accuracy: 0.4908\n",
            "Epoch 26/50\n",
            "49/49 [==============================] - 1s 13ms/step - loss: 0.9140 - accuracy: 0.6963 - val_loss: 1.4758 - val_accuracy: 0.4926\n",
            "Epoch 27/50\n",
            "49/49 [==============================] - 1s 13ms/step - loss: 0.8948 - accuracy: 0.7029 - val_loss: 1.4733 - val_accuracy: 0.4917\n",
            "Epoch 28/50\n",
            "49/49 [==============================] - 1s 13ms/step - loss: 0.8729 - accuracy: 0.7132 - val_loss: 1.4793 - val_accuracy: 0.4952\n",
            "Epoch 29/50\n",
            "49/49 [==============================] - 1s 13ms/step - loss: 0.8523 - accuracy: 0.7201 - val_loss: 1.4869 - val_accuracy: 0.4944\n",
            "Epoch 29: early stopping\n"
          ]
        }
      ]
    },
    {
      "cell_type": "code",
      "source": [
        "n"
      ],
      "metadata": {
        "colab": {
          "base_uri": "https://localhost:8080/",
          "height": 545
        },
        "id": "8BPEiHPh_eY2",
        "outputId": "a3ba6600-0a7c-4f75-9eb2-a7cd4da1d503"
      },
      "execution_count": 14,
      "outputs": [
        {
          "output_type": "display_data",
          "data": {
            "text/plain": [
              "<Figure size 432x288 with 1 Axes>"
            ],
            "image/png": "[encoded data removed]"
          },
          "metadata": {
            "needs_background": "light"
          }
        },
        {
          "output_type": "display_data",
          "data": {
            "text/plain": [
              "<Figure size 432x288 with 1 Axes>"
            ],
            "image/png": "[encoded data removed]"
          },
          "metadata": {
            "needs_background": "light"
          }
        }
      ]
    },
    {
      "cell_type": "code",
      "source": [
        "from keras.callbacks import EarlyStopping\n",
        "\n",
        "earlystop = EarlyStopping(monitor=\"val_loss\", \n",
        "                          patience=25, \n",
        "                          verbose=1\n",
        "                          )"
      ],
      "metadata": {
        "id": "sb1nSCuX_rVG"
      },
      "execution_count": 15,
      "outputs": []
    },
    {
      "cell_type": "code",
      "source": [
        "model = build_mlp(input_shape=x_train.shape[1:])\n",
        "model.summary()\n",
        "optimizer = tf.keras.optimizers.SGD(lr=LEARNING_RATE, nesterov=True, momentum=MOMENTUM)\n",
        "model.compile(loss=\"categorical_crossentropy\", metrics=[\"accuracy\"], optimizer=optimizer)\n",
        "\n",
        "model.fit(x_train, y_train, \n",
        "          epochs=EPOCHS, \n",
        "          batch_size=BATCH_SIZE, \n",
        "          validation_data=(x_test, y_test), \n",
        "          shuffle=True,\n",
        "          callbacks=[earlystop]\n",
        "         )\n",
        "\n",
        "# Collect results\n",
        "train_loss = model.history.history[\"loss\"]\n",
        "valid_loss = model.history.history[\"val_loss\"]\n",
        "train_acc = model.history.history[\"accuracy\"]\n",
        "valid_acc = model.history.history[\"val_accuracy\"]"
      ],
      "metadata": {
        "colab": {
          "base_uri": "https://localhost:8080/"
        },
        "id": "V9bFMsYm_t-9",
        "outputId": "a7799e8f-72c1-4e4b-db35-c8a76955a764"
      },
      "execution_count": 16,
      "outputs": [
        {
          "output_type": "stream",
          "name": "stdout",
          "text": [
            "Model: \"model_4\"\n",
            "_________________________________________________________________\n",
            " Layer (type)                Output Shape              Param #   \n",
            "=================================================================\n",
            " input_5 (InputLayer)        [(None, 3072)]            0         \n",
            "                                                                 \n",
            " hidden_layer1 (Dense)       (None, 512)               1573376   \n",
            "                                                                 \n",
            " batch_normalization_12 (Bat  (None, 512)              2048      \n",
            " chNormalization)                                                \n",
            "                                                                 \n",
            " hidden_layer2 (Dense)       (None, 256)               131328    \n",
            "                                                                 \n",
            " batch_normalization_13 (Bat  (None, 256)              1024      \n",
            " chNormalization)                                                \n",
            "                                                                 \n",
            " hidden_layer3 (Dense)       (None, 128)               32896     \n",
            "                                                                 \n",
            " batch_normalization_14 (Bat  (None, 128)              512       \n",
            " chNormalization)                                                \n",
            "                                                                 \n",
            " output (Dense)              (None, 10)                1290      \n",
            "                                                                 \n",
            "=================================================================\n",
            "Total params: 1,742,474\n",
            "Trainable params: 1,740,682\n",
            "Non-trainable params: 1,792\n",
            "_________________________________________________________________\n"
          ]
        },
        {
          "output_type": "stream",
          "name": "stderr",
          "text": [
            "/usr/local/lib/python3.7/dist-packages/keras/optimizer_v2/gradient_descent.py:102: UserWarning: The `lr` argument is deprecated, use `learning_rate` instead.\n",
            "  super(SGD, self).__init__(name, **kwargs)\n"
          ]
        },
        {
          "output_type": "stream",
          "name": "stdout",
          "text": [
            "Epoch 1/50\n",
            "49/49 [==============================] - 3s 19ms/step - loss: 2.2307 - accuracy: 0.2656 - val_loss: 2.1406 - val_accuracy: 0.1969\n",
            "Epoch 2/50\n",
            "49/49 [==============================] - 1s 14ms/step - loss: 1.7498 - accuracy: 0.3939 - val_loss: 1.9718 - val_accuracy: 0.2826\n",
            "Epoch 3/50\n",
            "49/49 [==============================] - 1s 14ms/step - loss: 1.6207 - accuracy: 0.4343 - val_loss: 1.8312 - val_accuracy: 0.3646\n",
            "Epoch 4/50\n",
            "49/49 [==============================] - 1s 15ms/step - loss: 1.5459 - accuracy: 0.4603 - val_loss: 1.7134 - val_accuracy: 0.4082\n",
            "Epoch 5/50\n",
            "49/49 [==============================] - 1s 14ms/step - loss: 1.4901 - accuracy: 0.4793 - val_loss: 1.6309 - val_accuracy: 0.4384\n",
            "Epoch 6/50\n",
            "49/49 [==============================] - 1s 14ms/step - loss: 1.4459 - accuracy: 0.4966 - val_loss: 1.5959 - val_accuracy: 0.4465\n",
            "Epoch 7/50\n",
            "49/49 [==============================] - 1s 13ms/step - loss: 1.4069 - accuracy: 0.5100 - val_loss: 1.5526 - val_accuracy: 0.4565\n",
            "Epoch 8/50\n",
            "49/49 [==============================] - 1s 13ms/step - loss: 1.3715 - accuracy: 0.5218 - val_loss: 1.5257 - val_accuracy: 0.4683\n",
            "Epoch 9/50\n",
            "49/49 [==============================] - 1s 13ms/step - loss: 1.3401 - accuracy: 0.5338 - val_loss: 1.5102 - val_accuracy: 0.4744\n",
            "Epoch 10/50\n",
            "49/49 [==============================] - 1s 13ms/step - loss: 1.3113 - accuracy: 0.5436 - val_loss: 1.5115 - val_accuracy: 0.4716\n",
            "Epoch 11/50\n",
            "49/49 [==============================] - 1s 13ms/step - loss: 1.2826 - accuracy: 0.5547 - val_loss: 1.5078 - val_accuracy: 0.4708\n",
            "Epoch 12/50\n",
            "49/49 [==============================] - 1s 14ms/step - loss: 1.2561 - accuracy: 0.5656 - val_loss: 1.4870 - val_accuracy: 0.4782\n",
            "Epoch 13/50\n",
            "49/49 [==============================] - 1s 13ms/step - loss: 1.2289 - accuracy: 0.5747 - val_loss: 1.4879 - val_accuracy: 0.4830\n",
            "Epoch 14/50\n",
            "49/49 [==============================] - 1s 13ms/step - loss: 1.2061 - accuracy: 0.5825 - val_loss: 1.4650 - val_accuracy: 0.4851\n",
            "Epoch 15/50\n",
            "49/49 [==============================] - 1s 15ms/step - loss: 1.1814 - accuracy: 0.5914 - val_loss: 1.4738 - val_accuracy: 0.4788\n",
            "Epoch 16/50\n",
            "49/49 [==============================] - 1s 13ms/step - loss: 1.1584 - accuracy: 0.6007 - val_loss: 1.4813 - val_accuracy: 0.4821\n",
            "Epoch 17/50\n",
            "49/49 [==============================] - 1s 13ms/step - loss: 1.1352 - accuracy: 0.6101 - val_loss: 1.4658 - val_accuracy: 0.4875\n",
            "Epoch 18/50\n",
            "49/49 [==============================] - 1s 13ms/step - loss: 1.1122 - accuracy: 0.6170 - val_loss: 1.4671 - val_accuracy: 0.4863\n",
            "Epoch 19/50\n",
            "49/49 [==============================] - 1s 13ms/step - loss: 1.0892 - accuracy: 0.6258 - val_loss: 1.4723 - val_accuracy: 0.4850\n",
            "Epoch 20/50\n",
            "49/49 [==============================] - 1s 14ms/step - loss: 1.0674 - accuracy: 0.6354 - val_loss: 1.4604 - val_accuracy: 0.4912\n",
            "Epoch 21/50\n",
            "49/49 [==============================] - 1s 14ms/step - loss: 1.0461 - accuracy: 0.6421 - val_loss: 1.4651 - val_accuracy: 0.4886\n",
            "Epoch 22/50\n",
            "49/49 [==============================] - 1s 13ms/step - loss: 1.0262 - accuracy: 0.6527 - val_loss: 1.4653 - val_accuracy: 0.4898\n",
            "Epoch 23/50\n",
            "49/49 [==============================] - 1s 15ms/step - loss: 1.0061 - accuracy: 0.6594 - val_loss: 1.4735 - val_accuracy: 0.4882\n",
            "Epoch 24/50\n",
            "49/49 [==============================] - 1s 13ms/step - loss: 0.9869 - accuracy: 0.6661 - val_loss: 1.4793 - val_accuracy: 0.4897\n",
            "Epoch 25/50\n",
            "49/49 [==============================] - 1s 13ms/step - loss: 0.9652 - accuracy: 0.6745 - val_loss: 1.4724 - val_accuracy: 0.4941\n",
            "Epoch 26/50\n",
            "49/49 [==============================] - 1s 13ms/step - loss: 0.9426 - accuracy: 0.6845 - val_loss: 1.4745 - val_accuracy: 0.4923\n",
            "Epoch 27/50\n",
            "49/49 [==============================] - 1s 13ms/step - loss: 0.9236 - accuracy: 0.6909 - val_loss: 1.4701 - val_accuracy: 0.4936\n",
            "Epoch 28/50\n",
            "49/49 [==============================] - 1s 13ms/step - loss: 0.9045 - accuracy: 0.6979 - val_loss: 1.4953 - val_accuracy: 0.4892\n",
            "Epoch 29/50\n",
            "49/49 [==============================] - 1s 13ms/step - loss: 0.8853 - accuracy: 0.7057 - val_loss: 1.5017 - val_accuracy: 0.4923\n",
            "Epoch 30/50\n",
            "49/49 [==============================] - 1s 13ms/step - loss: 0.8662 - accuracy: 0.7125 - val_loss: 1.4931 - val_accuracy: 0.4935\n",
            "Epoch 31/50\n",
            "49/49 [==============================] - 1s 13ms/step - loss: 0.8453 - accuracy: 0.7222 - val_loss: 1.4989 - val_accuracy: 0.4870\n",
            "Epoch 32/50\n",
            "49/49 [==============================] - 1s 14ms/step - loss: 0.8263 - accuracy: 0.7285 - val_loss: 1.5101 - val_accuracy: 0.4913\n",
            "Epoch 33/50\n",
            "49/49 [==============================] - 1s 13ms/step - loss: 0.8076 - accuracy: 0.7368 - val_loss: 1.5130 - val_accuracy: 0.4993\n",
            "Epoch 34/50\n",
            "49/49 [==============================] - 1s 13ms/step - loss: 0.7884 - accuracy: 0.7441 - val_loss: 1.5195 - val_accuracy: 0.4948\n",
            "Epoch 35/50\n",
            "49/49 [==============================] - 1s 13ms/step - loss: 0.7693 - accuracy: 0.7522 - val_loss: 1.5292 - val_accuracy: 0.4899\n",
            "Epoch 36/50\n",
            "49/49 [==============================] - 1s 14ms/step - loss: 0.7502 - accuracy: 0.7586 - val_loss: 1.5389 - val_accuracy: 0.4938\n",
            "Epoch 37/50\n",
            "49/49 [==============================] - 1s 14ms/step - loss: 0.7305 - accuracy: 0.7670 - val_loss: 1.5412 - val_accuracy: 0.4915\n",
            "Epoch 38/50\n",
            "49/49 [==============================] - 1s 14ms/step - loss: 0.7137 - accuracy: 0.7745 - val_loss: 1.5434 - val_accuracy: 0.4906\n",
            "Epoch 39/50\n",
            "49/49 [==============================] - 1s 14ms/step - loss: 0.6961 - accuracy: 0.7807 - val_loss: 1.5615 - val_accuracy: 0.4944\n",
            "Epoch 40/50\n",
            "49/49 [==============================] - 1s 14ms/step - loss: 0.6780 - accuracy: 0.7886 - val_loss: 1.5671 - val_accuracy: 0.4916\n",
            "Epoch 41/50\n",
            "49/49 [==============================] - 1s 14ms/step - loss: 0.6578 - accuracy: 0.7946 - val_loss: 1.5778 - val_accuracy: 0.4933\n",
            "Epoch 42/50\n",
            "49/49 [==============================] - 1s 13ms/step - loss: 0.6396 - accuracy: 0.8037 - val_loss: 1.5988 - val_accuracy: 0.4870\n",
            "Epoch 43/50\n",
            "49/49 [==============================] - 1s 13ms/step - loss: 0.6227 - accuracy: 0.8108 - val_loss: 1.6132 - val_accuracy: 0.4922\n",
            "Epoch 44/50\n",
            "49/49 [==============================] - 1s 13ms/step - loss: 0.6053 - accuracy: 0.8173 - val_loss: 1.6103 - val_accuracy: 0.4920\n",
            "Epoch 45/50\n",
            "49/49 [==============================] - 1s 14ms/step - loss: 0.5880 - accuracy: 0.8255 - val_loss: 1.6212 - val_accuracy: 0.4866\n",
            "Epoch 45: early stopping\n"
          ]
        }
      ]
    },
    {
      "cell_type": "code",
      "source": [
        "import matplotlib.pyplot as plt\n",
        "%matplotlib inline\n",
        "\n",
        "plt.plot(range(len(train_loss)), train_loss, label=\"train loss\")\n",
        "plt.plot(range(len(valid_loss)), valid_loss, label=\"valid loss\")\n",
        "plt.legend()\n",
        "plt.title(\"Loss\")\n",
        "plt.show()\n",
        "\n",
        "plt.plot(range(len(train_acc)), train_acc, label=\"train accuracy\")\n",
        "plt.plot(range(len(valid_acc)), valid_acc, label=\"valid accuracy\")\n",
        "plt.legend()\n",
        "plt.title(\"Accuracy\")\n",
        "plt.show()"
      ],
      "metadata": {
        "colab": {
          "base_uri": "https://localhost:8080/",
          "height": 545
        },
        "id": "dd4YE7FQ_5uu",
        "outputId": "c3be11d9-9066-485b-9bb9-7860a0c63d94"
      },
      "execution_count": 17,
      "outputs": [
        {
          "output_type": "display_data",
          "data": {
            "text/plain": [
              "<Figure size 432x288 with 1 Axes>"
            ],
            "image/png": "[encoded data removed]"
          },
          "metadata": {
            "needs_background": "light"
          }
        },
        {
          "output_type": "display_data",
          "data": {
            "text/plain": [
              "<Figure size 432x288 with 1 Axes>"
            ],
            "image/png": "[encoded data removed]"
          },
          "metadata": {
            "needs_background": "light"
          }
        }
      ]
    }
  ],
  "metadata": {
    "kernelspec": {
      "display_name": "Python 3",
      "language": "python",
      "name": "python3"
    },
    "language_info": {
      "codemirror_mode": {
        "name": "ipython",
        "version": 3
      },
      "file_extension": ".py",
      "mimetype": "text/x-python",
      "name": "python",
      "nbconvert_exporter": "python",
      "pygments_lexer": "ipython3",
      "version": "3.7.5"
    },
    "colab": {
      "name": "Day085_CB_EarlyStop_範例 .ipynb",
      "provenance": []
    },
    "accelerator": "GPU"
  },
  "nbformat": 4,
  "nbformat_minor": 0
}