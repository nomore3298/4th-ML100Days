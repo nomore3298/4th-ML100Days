{
 "cells": [
  {
   "cell_type": "markdown",
   "metadata": {},
   "source": [
    "## 練習時間\n",
    "#### 請寫一個函式用來計算 Mean Square Error\n",
    "$ MSE = \\frac{1}{n}\\sum_{i=1}^{n}{(Y_i - \\hat{Y}_i)^2} $\n",
    "\n",
    "### Hint: [如何取平方](https://googoodesign.gitbooks.io/-ezpython/unit-1.html)"
   ]
  },
  {
   "cell_type": "markdown",
   "metadata": {},
   "source": [
    "# [作業目標]\n",
    "- 仿造範例的MAE函數, 自己寫一個MSE函數(參考上面公式)"
   ]
  },
  {
   "cell_type": "markdown",
   "metadata": {},
   "source": [
    "# [作業重點]\n",
    "- 注意程式的縮排\n",
    "- 是否能將數學公式, 轉換為 Python 的函式組合? (In[2], Out[2])"
   ]
  },
  {
   "cell_type": "code",
   "execution_count": 1,
   "metadata": {},
   "outputs": [],
   "source": [
    "# 載入基礎套件與代稱\n",
    "import numpy as np\n",
    "import matplotlib.pyplot as plt"
   ]
  },
  {
   "cell_type": "code",
   "execution_count": 2,
   "metadata": {},
   "outputs": [],
   "source": [
    "def mean_absolute_error(y, yp):\n",
    "    \"\"\"\n",
    "    計算 MAE\n",
    "    Args:\n",
    "        - y: 實際值\n",
    "        - yp: 預測值\n",
    "    Return:\n",
    "        - mae: MAE\n",
    "    \"\"\"\n",
    "    mae = MAE = sum(abs(y - yp)) / len(y)\n",
    "    return mae\n",
    "\n",
    "# 定義 mean_squared_error 這個函數, 計算並傳回 MSE\n",
    "def mean_squared_error(y, yp):\n",
    "    \"\"\"\n",
    "    計算 MSE\n",
    "    Args:\n",
    "        - y: 實際值\n",
    "        - yp: 預測值\n",
    "    Return:\n",
    "        - mse: MSE\n",
    "    \"\"\"\n",
    "    # Ans:主要是下面這一行\n",
    "    mse = sum((y - yp)**2) / len(y)\n",
    "    return mse\n",
    "\n",
    "def np_mean_squared_error(y,yp):\n",
    "    \"\"\"\n",
    "    請完成這個 Function 後往下執行\n",
    "    \"\"\"\n",
    "    mse = np.square(np.subtract(y, yp)).mean()\n",
    "    return mse\n",
    "\n",
    "\n",
    "def sk_mean_squared_error(y,yp):\n",
    "    \"\"\"\n",
    "    sk\n",
    "    \"\"\"\n",
    "    from sklearn.metrics import mean_squared_error\n",
    "    mse = mean_squared_error(y, yp)\n",
    "    return mse\n"
   ]
  },
  {
   "cell_type": "code",
   "execution_count": 3,
   "metadata": {},
   "outputs": [
    {
     "data": {
      "image/png": "[encoded data removed]",
      "text/plain": [
       "<Figure size 432x288 with 1 Axes>"
      ]
     },
     "metadata": {
      "needs_background": "light"
     },
     "output_type": "display_data"
    }
   ],
   "source": [
    "# 與範例相同, 不另外解說\n",
    "w = 3\n",
    "b = 0.5\n",
    "x_lin = np.linspace(0, 100, 101)\n",
    "y = (x_lin + np.random.randn(101) * 5) * w + b\n",
    "\n",
    "plt.plot(x_lin, y, 'b.', label = 'data points')\n",
    "plt.title(\"Assume we have data points\")\n",
    "plt.legend(loc = 2)\n",
    "plt.show()"
   ]
  },
  {
   "cell_type": "code",
   "execution_count": 4,
   "metadata": {},
   "outputs": [
    {
     "data": {
      "image/png": "[encoded data removed]",
      "text/plain": [
       "<Figure size 432x288 with 1 Axes>"
      ]
     },
     "metadata": {
      "needs_background": "light"
     },
     "output_type": "display_data"
    }
   ],
   "source": [
    "# 與範例相同, 不另外解說\n",
    "y_hat = x_lin * w + b\n",
    "plt.plot(x_lin, y, 'b.', label = 'data')\n",
    "plt.plot(x_lin, y_hat, 'r-', label = 'prediction')\n",
    "plt.title(\"Assume we have data points (And the prediction)\")\n",
    "plt.legend(loc = 2)\n",
    "plt.show()"
   ]
  },
  {
   "cell_type": "code",
   "execution_count": 5,
   "metadata": {
    "scrolled": true
   },
   "outputs": [
    {
     "name": "stdout",
     "output_type": "stream",
     "text": [
      "The Mean squared error is 224.706\n",
      "The np Mean squared error is 224.706\n",
      "The sk Mean squared error is 224.706\n",
      "The Mean absolute error is 12.415\n"
     ]
    }
   ],
   "source": [
    "# 執行 Function, 確認有沒有正常執行\n",
    "MSE = mean_squared_error(y, y_hat)\n",
    "MSE1 = np_mean_squared_error(y, y_hat)\n",
    "MSE2 = sk_mean_squared_error(y, y_hat)\n",
    "MAE = mean_absolute_error(y, y_hat)\n",
    "print(\"The Mean squared error is %.3f\" % (MSE))\n",
    "print(\"The np Mean squared error is %.3f\" % (MSE1))\n",
    "print(\"The sk Mean squared error is %.3f\" % (MSE2))\n",
    "print(\"The Mean absolute error is %.3f\" % (MAE))"
   ]
  },
  {
   "cell_type": "markdown",
   "metadata": {},
   "source": [
    "[作業2]\n",
    "====\n",
    "請上 Kaggle, 在 Competitions 或 Dataset 中找一組競賽或資料並寫下：<br>\n",
    "1.你選的這組資料為何重要<br>\n",
    "2.資料從何而來 (tips: 譬如提供者是誰、以什麼方式蒐集)<br>\n",
    "3.蒐集而來的資料型態為何<br>\n",
    "4.這組資料想解決的問題如何評估<br>\n",
    "\n",
    "kaggle競賽題目:Deepfake Detection Challenge<br>\n",
    "\n",
    "1.我會選擇這組資料的原因是因為現在是一個資訊爆炸的世代，能夠輕易取的許多的資訊，而這些資訊中又包含了大量的假資訊，<br>\n",
    "而且不容易被人類察覺，我們只能用電腦機器來判斷這些假冒的訊息，我認為這是每個世代都會面臨的挑戰，能夠分辨真假是一個<br>\n",
    "很重要的能力，所以我選則了Deepfake Detection Challenge這組資料。<br>\n",
    "2.資料來源可能會是有心人士為了某些利益(例如:選舉抹黑，公眾人物抹黑)，而利用這項技術來攻擊有名的人士，當被害人的Deepfake<br>\n",
    "影片在網路上流傳時，就可以蒐集這些影片來檢驗是否為真實的影片。<br>\n",
    "3.蒐集而來的資料型態可能會有，影片、照片、聲音等多媒體。<br>\n",
    "4.方法可能有，1.用人工智慧為影像添加時間、地點浮水印，並將圖片初始資訊印至區塊鏈。一旦影像的資訊與原始圖片不符，就容易判斷真假<br>\n",
    "。2.用假影片訓練演算法，讓演算法辨識虛擬痕跡。在人們上傳影片到社交網站時，平台需要重新編碼影片。這是個偵測假影片的好時機。<br>\n"
   ]
  },
  {
   "cell_type": "markdown",
   "metadata": {},
   "source": [
    "[作業3]\n",
    "====\n",
    "想像你經營一個自由載客車隊，你希望能透過數據分析以提升業績，請你思考並描述你如何規劃整體的分析/解決方案：<br>\n",
    "\n",
    "1.核心問題為何 (tips：如何定義 「提升業績 & 你的假設」)<br>\n",
    "2.資料從何而來 (tips：哪些資料可能會對你想問的問題產生影響 & 資料如何蒐集)<br>\n",
    "3.蒐集而來的資料型態為何<br>\n",
    "4.你要回答的問題，其如何評估 (tips：你的假設如何驗證)<br>\n",
    "\n",
    "1.如果我經營一個自由載客車隊，我希望能夠透過分析車子油耗與客人的習慣來提升業績，在車子油耗方面會希望越低越好，<br>\n",
    "我認為車子的油耗佔了大部分的成本比例，所以在油耗方面會特別注意，而客人的習慣主要在分析那些地方會有較多遊客，<br>\n",
    "或是哪個地方的交通沒那麼方便會需要計程車的服務，目前的想法是這兩點。<br>\n",
    "2.資料來源可能會是車隊的載客經驗或是縣市的大型活動，車隊的載客經驗要直接訪問司機收集，紀錄這些數據在將他整理，<br>\n",
    "而縣市的大型活動一般在網路上都有資訊。<br>\n",
    "3.蒐集的資料型態可能是文字檔，將司機口頭闡述的經驗收集起來整理在電腦裡面保存，而縣市的大型活動就以網頁的型態保存。<br>\n",
    "4.假設的驗證，可能需要一段時間，例如:1個月、3個月。紀錄油量的花費與賺取的金錢來驗證以上的假設。<br>"
   ]
  }
 ],
 "metadata": {
  "anaconda-cloud": {},
  "kernelspec": {
   "display_name": "Python 3",
   "language": "python",
   "name": "python3"
  },
  "language_info": {
   "codemirror_mode": {
    "name": "ipython",
    "version": 3
   },
   "file_extension": ".py",
   "mimetype": "text/x-python",
   "name": "python",
   "nbconvert_exporter": "python",
   "pygments_lexer": "ipython3",
   "version": "3.7.4"
  }
 },
 "nbformat": 4,
 "nbformat_minor": 1
}
